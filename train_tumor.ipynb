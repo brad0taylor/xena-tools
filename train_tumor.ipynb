{
 "cells": [
  {
   "cell_type": "markdown",
   "metadata": {},
   "source": [
    "# Deriving cancer gene's from expression data\n",
    "\n",
    "See if it's possible to train a deep neural network tumor/normal binary classifier using just the Toil TCGA, TARGET and GTEX expression datasets:\n",
    "\n",
    "https://xenabrowser.net/datapages/?host=https://toil.xenahubs.net)"
   ]
  },
  {
   "cell_type": "code",
   "execution_count": 1,
   "metadata": {},
   "outputs": [
    {
     "name": "stderr",
     "output_type": "stream",
     "text": [
      "/home/brad/anaconda3/envs/xenas/lib/python3.6/importlib/_bootstrap.py:219: RuntimeWarning: compiletime version 3.5 of module 'tensorflow.python.framework.fast_tensor_util' does not match runtime version 3.6\n",
      "  return f(*args, **kwds)\n",
      "/home/brad/anaconda3/envs/xenas/lib/python3.6/site-packages/h5py/__init__.py:36: FutureWarning: Conversion of the second argument of issubdtype from `float` to `np.floating` is deprecated. In future, it will be treated as `np.float64 == np.dtype(float).type`.\n",
      "  from ._conv import register_converters as _register_converters\n",
      "Using TensorFlow backend.\n"
     ]
    }
   ],
   "source": [
    "import os\n",
    "import numpy as np\n",
    "import pandas as pd\n",
    "import tensorflow as tf\n",
    "import keras\n",
    "\n",
    "# fix random seed for reproducibility\n",
    "np.random.seed(42)"
   ]
  },
  {
   "cell_type": "code",
   "execution_count": 2,
   "metadata": {},
   "outputs": [],
   "source": [
    "#\"\"\"\n",
    "#Detect if there are GPU's on this box and if so use them politely. If not use the CPU.\n",
    "#\"\"\"\n",
    "#import re\n",
    "#import subprocess\n",
    "#import keras.backend.tensorflow_backend\n",
    "#\n",
    "#\n",
    "#if \"CUDA_HOME\" in os.environ:\n",
    "#    # Pick a GPU that isn't being used and then only use the memory we need (allow_growth)\n",
    "#    print(\"Using GPU\")\n",
    "#    def get_session():\n",
    "#        return tf.Session(config=tf.ConfigProto(log_device_placement=True, allow_soft_placement=True,\n",
    "#                                                gpu_options=tf.GPUOptions(allow_growth=True)))\n",
    "#    keras.backend.tensorflow_backend.set_session(get_session())\n",
    "#\n",
    "#    utilization = re.findall(r\"Utilization.*?Gpu.*?(\\d+).*?Memory.*?(\\d+)\",\n",
    "#                             subprocess.check_output([\"nvidia-smi\", \"-q\"]), \n",
    "#                             flags=re.MULTILINE | re.DOTALL)\n",
    "#    print(\"GPU Utilization\", utilization)\n",
    "#\n",
    "#    if ('0', '0') in utilization:\n",
    "#        print(\"Using GPU Device:\", utilization.index(('0', '0')))\n",
    "#        os.environ[\"CUDA_VISIBLE_DEVICES\"] = str(utilization.index(('0', '0')))\n",
    "#        os.environ[\"CUDA_DEVICE_ORDER\"]  = \"PCI_BUS_ID\"  # To ensure the index matches\n",
    "#    else:\n",
    "#        print(\"All GPUs in Use\")\n",
    "#        exit    \n",
    "#else:\n",
    "#    print(\"Using CPU\")"
   ]
  },
  {
   "cell_type": "code",
   "execution_count": 3,
   "metadata": {},
   "outputs": [
    {
     "name": "stdout",
     "output_type": "stream",
     "text": [
      "Datasets: ['X_test', 'X_train', 'class_labels', 'classes_test', 'classes_train', 'features', 'genes', 'labels', 'y_test', 'y_train']\n",
      "Training on full dataset\n",
      "X_train.shape: (15300, 60498) epochs: 8 batch_size: 128\n",
      "X_test.shape: (3826, 60498)\n"
     ]
    }
   ],
   "source": [
    "from keras.utils.io_utils import HDF5Matrix\n",
    "import h5py\n",
    "\n",
    "input_file = \"data/tumor_normal.h5\"\n",
    "\n",
    "with h5py.File(input_file, \"r\") as f:\n",
    "    print(\"Datasets:\", list(f.keys()))\n",
    "    \n",
    "# Use a subset of the data if debugging\n",
    "#if os.getenv(\"DEBUG\", \"True\") == \"True\":\n",
    "#    X_train = HDF5Matrix(input_file, \"X_train\", start=0, end=1000)\n",
    "#    X_test = HDF5Matrix(input_file, \"X_test\", start=0, end=200)\n",
    "#    y_train = HDF5Matrix(input_file, \"y_train\", start=0, end=1000)\n",
    "#    y_test = HDF5Matrix(input_file, \"y_test\", start=0, end=200)\n",
    "#    print(\"Training on partial dataset\")\n",
    "#    epochs=1\n",
    "#    batch_size=256\n",
    "#else:\n",
    "X_train = np.array(HDF5Matrix(input_file, \"X_train\"))\n",
    "X_test  = np.array(HDF5Matrix(input_file, \"X_test\"))\n",
    "y_train = np.array(HDF5Matrix(input_file, \"y_train\"))\n",
    "y_test  = np.array(HDF5Matrix(input_file, \"y_test\"))\n",
    "Y_\n",
    "print(\"Training on full dataset\")\n",
    "epochs=8\n",
    "batch_size=128\n",
    "    \n",
    "print(\"X_train.shape:\", X_train.shape, \"epochs:\", epochs, \"batch_size:\", batch_size)\n",
    "print(\"X_test.shape:\", X_test.shape)\n",
    "\n",
    " "
   ]
  },
  {
   "cell_type": "code",
   "execution_count": null,
   "metadata": {},
   "outputs": [],
   "source": [
    "\"\"\"\n",
    "Batch normalization with a sparse layer.\n",
    "\n",
    "Achieves on Test:\n",
    "3744/3826 [============================>.] - ETA: 0s(['loss', 'acc'], [0.52888519396363787, 0.89388395178336721])\n",
    "\"\"\"\n",
    "from keras.models import Model, Sequential\n",
    "from keras.layers import InputLayer, Dense, BatchNormalization, Activation, Dropout\n",
    "from keras.callbacks import EarlyStopping\n",
    "from keras import regularizers\n",
    "\n",
    "opt = keras.optimizers.rmsprop(lr=0.0000002, decay=1e-6)\n",
    "\n",
    "classify = [\n",
    "    InputLayer(input_shape=(X_train.shape[1],)),\n",
    "    BatchNormalization(),\n",
    "    \n",
    "#    Dense(1000),\n",
    "#     BatchNormalization(),\n",
    "#    Dropout(.9),\n",
    "#    Activation('selu'),\n",
    "#\n",
    "#    Dense(500),\n",
    "#     BatchNormalization(),\n",
    "#    Dropout(.7),\n",
    "#    Activation('selu'),\n",
    "\n",
    "#    Dense(200),\n",
    "#     BatchNormalization(),\n",
    "#    Dropout(.5),\n",
    "#    Activation('selu'),\n",
    "\n",
    "#    Dense(100),\n",
    "#     BatchNormalization(),\n",
    "#    Dropout(.8),\n",
    "#    Activation('relu'),\n",
    "#\n",
    "#    Dense(100),\n",
    "#     BatchNormalization(),\n",
    "#    Dropout(.8),\n",
    "#    Activation('relu'),\n",
    "#    InputLayer(input_shape=(X_train.shape[1],)),\n",
    "#    BatchNormalization(),\n",
    "#    \n",
    "#    Dense(1),\n",
    "#    BatchNormalization(),\n",
    "#    Activation('selu'),\n",
    "\n",
    "#    Dense(1, activity_regularizer=regularizers.l1(1e-5)),\n",
    "#    BatchNormalization(),\n",
    "#    Activation('selu'),\n",
    "    \n",
    "    Dense(1),\n",
    "    Activation('sigmoid')\n",
    "\n",
    "    \n",
    "#    Dense(200, activity_regularizer=regularizers.l1(.0001)),\n",
    "#    BatchNormalization(),\n",
    "#    Dropout(.6),\n",
    "#    Activation('relu'),\n",
    "    \n",
    "#    Dense(1, kernel_regularizer=regularizers.l1(0.001)),\n",
    "#    Activation('sigmoid')\n",
    "]\n",
    "\n",
    "model = Sequential(classify)\n",
    "\n",
    "#model.compile(loss='binary_crossentropy', optimizer='adam', metrics=['accuracy'])\n",
    "model.compile(loss='binary_crossentropy', optimizer=opt, metrics=['accuracy'])\n",
    "\n",
    "callbacks=[EarlyStopping(monitor='acc', min_delta=0.05, patience=2, verbose=2, mode=\"max\")]\n",
    "\n",
    "#model.fit(X_train, y_train, epochs=epochs, batch_size=32, shuffle=\"batch\", callbacks=callbacks, validation_data=(X_test, y_test))\n",
    "\n",
    "#print(model.metrics_names, model.evaluate(X_test, y_test))"
   ]
  },
  {
   "cell_type": "code",
   "execution_count": null,
   "metadata": {},
   "outputs": [],
   "source": [
    "model.fit(X_train, y_train, epochs=20, batch_size=32, shuffle=\"batch\",validation_data=(X_test, y_test))\n",
    "print(model.metrics_names, model.evaluate(X_test, y_test))\n"
   ]
  },
  {
   "cell_type": "code",
   "execution_count": null,
   "metadata": {},
   "outputs": [],
   "source": [
    "import numpy as np\n",
    "def RNA_mix(mix, naug):\n",
    "    \n",
    "    print( )\n",
    "    samples=X_train.shape[0]\n",
    "    rmix=np.random.rand()*(1-mix)\n",
    "    print(\"mix ratio=\", 1-rmix)\n",
    "    for i in range(naug) :\n",
    "        i0 = np.random.randint(samples)\n",
    "        i1 = np.random.randint(samples)\n",
    "        \n",
    "        Xmix0 = X_train[i0,:] *(1-rmix) \n",
    "        Xmix1 = X_train[i1,:] *(rmix) \n",
    "        X_aug[i,:]=Xmix0 + Xmix1\n",
    "        Y_aug[i]=y_train[i0]\n",
    "       \n",
    "\n",
    "naug=5000\n",
    "\n",
    "X_aug=np.zeros((naug,X_train.shape[1]))\n",
    "Y_aug=np.zeros((naug))\n",
    "\n",
    "\n",
    "for k in range(1):\n",
    "   for i in range(20):\n",
    "      RNA_mix(.5, naug)   \n",
    "      model.fit(X_aug, Y_aug, epochs=1, batch_size=128, shuffle=\"true\",validation_data=(X_test, y_test))\n",
    "\n",
    "   model.fit(X_train, y_train, epochs=3, batch_size=256, shuffle=\"true\",validation_data=(X_test, y_test))\n",
    "\n"
   ]
  },
  {
   "cell_type": "code",
   "execution_count": null,
   "metadata": {},
   "outputs": [],
   "source": [
    "\"\"\"\n",
    "Save model and weights so we can copy them back from the GPU machine\n",
    "to visualize and evaluate locally.\n",
    "\"\"\"\n",
    "model_json = model.to_json()\n",
    "if not os.path.exists(\"models\"):\n",
    "    os.makedirs(\"models\")\n",
    "with open(\"models/model.json\", \"w\") as f:\n",
    "    f.write(model.to_json())\n",
    "\n",
    "model.save_weights(\"models/weights.h5\")\n",
    "print(\"Saved to model.json and weights.json\")"
   ]
  },
  {
   "cell_type": "code",
   "execution_count": null,
   "metadata": {},
   "outputs": [],
   "source": []
  },
  {
   "cell_type": "code",
   "execution_count": null,
   "metadata": {},
   "outputs": [],
   "source": []
  }
 ],
 "metadata": {
  "kernelspec": {
   "display_name": "Python 3",
   "language": "python",
   "name": "python3"
  },
  "language_info": {
   "codemirror_mode": {
    "name": "ipython",
    "version": 3
   },
   "file_extension": ".py",
   "mimetype": "text/x-python",
   "name": "python",
   "nbconvert_exporter": "python",
   "pygments_lexer": "ipython3",
   "version": "3.6.4"
  },
  "varInspector": {
   "cols": {
    "lenName": 16,
    "lenType": 16,
    "lenVar": 40
   },
   "kernels_config": {
    "python": {
     "delete_cmd_postfix": "",
     "delete_cmd_prefix": "del ",
     "library": "var_list.py",
     "varRefreshCmd": "print(var_dic_list())"
    },
    "r": {
     "delete_cmd_postfix": ") ",
     "delete_cmd_prefix": "rm(",
     "library": "var_list.r",
     "varRefreshCmd": "cat(var_dic_list()) "
    }
   },
   "position": {
    "height": "697px",
    "left": "774px",
    "right": "20px",
    "top": "120px",
    "width": "359px"
   },
   "types_to_exclude": [
    "module",
    "function",
    "builtin_function_or_method",
    "instance",
    "_Feature"
   ],
   "window_display": false
  }
 },
 "nbformat": 4,
 "nbformat_minor": 2
}
